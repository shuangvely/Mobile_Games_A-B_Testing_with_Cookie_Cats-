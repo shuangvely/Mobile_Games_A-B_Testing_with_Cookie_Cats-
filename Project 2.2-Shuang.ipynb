{
 "cells": [
  {
   "cell_type": "markdown",
   "id": "6f8dd770",
   "metadata": {},
   "source": [
    "# Mobile Games: A/B Testing & Player Retention"
   ]
  },
  {
   "cell_type": "code",
   "execution_count": 6,
   "id": "666ad25c",
   "metadata": {},
   "outputs": [],
   "source": [
    "import pandas as pd\n",
    "import numpy as np\n",
    "import matplotlib.pyplot as plt\n",
    "import seaborn as sns"
   ]
  },
  {
   "cell_type": "markdown",
   "id": "d7ae8bd2",
   "metadata": {},
   "source": [
    "# 1. load data and check missing value"
   ]
  },
  {
   "cell_type": "code",
   "execution_count": 3,
   "id": "187f9656",
   "metadata": {},
   "outputs": [
    {
     "data": {
      "text/html": [
       "<div>\n",
       "<style scoped>\n",
       "    .dataframe tbody tr th:only-of-type {\n",
       "        vertical-align: middle;\n",
       "    }\n",
       "\n",
       "    .dataframe tbody tr th {\n",
       "        vertical-align: top;\n",
       "    }\n",
       "\n",
       "    .dataframe thead th {\n",
       "        text-align: right;\n",
       "    }\n",
       "</style>\n",
       "<table border=\"1\" class=\"dataframe\">\n",
       "  <thead>\n",
       "    <tr style=\"text-align: right;\">\n",
       "      <th></th>\n",
       "      <th>userid</th>\n",
       "      <th>version</th>\n",
       "      <th>sum_gamerounds</th>\n",
       "      <th>retention_1</th>\n",
       "      <th>retention_7</th>\n",
       "    </tr>\n",
       "  </thead>\n",
       "  <tbody>\n",
       "    <tr>\n",
       "      <th>0</th>\n",
       "      <td>116.0</td>\n",
       "      <td>gate_30</td>\n",
       "      <td>3.0</td>\n",
       "      <td>False</td>\n",
       "      <td>False</td>\n",
       "    </tr>\n",
       "    <tr>\n",
       "      <th>1</th>\n",
       "      <td>337.0</td>\n",
       "      <td>gate_30</td>\n",
       "      <td>38.0</td>\n",
       "      <td>True</td>\n",
       "      <td>False</td>\n",
       "    </tr>\n",
       "    <tr>\n",
       "      <th>2</th>\n",
       "      <td>377.0</td>\n",
       "      <td>gate_40</td>\n",
       "      <td>165.0</td>\n",
       "      <td>True</td>\n",
       "      <td>False</td>\n",
       "    </tr>\n",
       "    <tr>\n",
       "      <th>3</th>\n",
       "      <td>483.0</td>\n",
       "      <td>gate_40</td>\n",
       "      <td>1.0</td>\n",
       "      <td>False</td>\n",
       "      <td>False</td>\n",
       "    </tr>\n",
       "    <tr>\n",
       "      <th>4</th>\n",
       "      <td>488.0</td>\n",
       "      <td>gate_40</td>\n",
       "      <td>179.0</td>\n",
       "      <td>True</td>\n",
       "      <td>True</td>\n",
       "    </tr>\n",
       "  </tbody>\n",
       "</table>\n",
       "</div>"
      ],
      "text/plain": [
       "   userid  version  sum_gamerounds  retention_1  retention_7\n",
       "0   116.0  gate_30             3.0        False        False\n",
       "1   337.0  gate_30            38.0         True        False\n",
       "2   377.0  gate_40           165.0         True        False\n",
       "3   483.0  gate_40             1.0        False        False\n",
       "4   488.0  gate_40           179.0         True         True"
      ]
     },
     "execution_count": 3,
     "metadata": {},
     "output_type": "execute_result"
    }
   ],
   "source": [
    "df = pd.read_excel('cookie_cats.xlsx')\n",
    "df.head()"
   ]
  },
  {
   "cell_type": "code",
   "execution_count": 4,
   "id": "d5fc3312",
   "metadata": {},
   "outputs": [
    {
     "name": "stdout",
     "output_type": "stream",
     "text": [
      "<class 'pandas.core.frame.DataFrame'>\n",
      "RangeIndex: 90189 entries, 0 to 90188\n",
      "Data columns (total 5 columns):\n",
      " #   Column          Non-Null Count  Dtype  \n",
      "---  ------          --------------  -----  \n",
      " 0   userid          90189 non-null  float64\n",
      " 1   version         90189 non-null  object \n",
      " 2   sum_gamerounds  90189 non-null  float64\n",
      " 3   retention_1     90189 non-null  bool   \n",
      " 4   retention_7     90189 non-null  bool   \n",
      "dtypes: bool(2), float64(2), object(1)\n",
      "memory usage: 2.2+ MB\n"
     ]
    }
   ],
   "source": [
    "df.info()\n",
    "# there is no missing value"
   ]
  },
  {
   "cell_type": "markdown",
   "id": "acc6f8bb",
   "metadata": {},
   "source": [
    "# 2. check outliers"
   ]
  },
  {
   "cell_type": "code",
   "execution_count": 5,
   "id": "0164728b",
   "metadata": {},
   "outputs": [
    {
     "data": {
      "text/html": [
       "<div>\n",
       "<style scoped>\n",
       "    .dataframe tbody tr th:only-of-type {\n",
       "        vertical-align: middle;\n",
       "    }\n",
       "\n",
       "    .dataframe tbody tr th {\n",
       "        vertical-align: top;\n",
       "    }\n",
       "\n",
       "    .dataframe thead th {\n",
       "        text-align: right;\n",
       "    }\n",
       "</style>\n",
       "<table border=\"1\" class=\"dataframe\">\n",
       "  <thead>\n",
       "    <tr style=\"text-align: right;\">\n",
       "      <th></th>\n",
       "      <th>userid</th>\n",
       "      <th>sum_gamerounds</th>\n",
       "    </tr>\n",
       "  </thead>\n",
       "  <tbody>\n",
       "    <tr>\n",
       "      <th>count</th>\n",
       "      <td>9.018900e+04</td>\n",
       "      <td>90189.000000</td>\n",
       "    </tr>\n",
       "    <tr>\n",
       "      <th>mean</th>\n",
       "      <td>4.998412e+06</td>\n",
       "      <td>51.872457</td>\n",
       "    </tr>\n",
       "    <tr>\n",
       "      <th>std</th>\n",
       "      <td>2.883286e+06</td>\n",
       "      <td>195.050858</td>\n",
       "    </tr>\n",
       "    <tr>\n",
       "      <th>min</th>\n",
       "      <td>1.160000e+02</td>\n",
       "      <td>0.000000</td>\n",
       "    </tr>\n",
       "    <tr>\n",
       "      <th>25%</th>\n",
       "      <td>2.512230e+06</td>\n",
       "      <td>5.000000</td>\n",
       "    </tr>\n",
       "    <tr>\n",
       "      <th>50%</th>\n",
       "      <td>4.995815e+06</td>\n",
       "      <td>16.000000</td>\n",
       "    </tr>\n",
       "    <tr>\n",
       "      <th>75%</th>\n",
       "      <td>7.496452e+06</td>\n",
       "      <td>51.000000</td>\n",
       "    </tr>\n",
       "    <tr>\n",
       "      <th>max</th>\n",
       "      <td>9.999861e+06</td>\n",
       "      <td>49854.000000</td>\n",
       "    </tr>\n",
       "  </tbody>\n",
       "</table>\n",
       "</div>"
      ],
      "text/plain": [
       "             userid  sum_gamerounds\n",
       "count  9.018900e+04    90189.000000\n",
       "mean   4.998412e+06       51.872457\n",
       "std    2.883286e+06      195.050858\n",
       "min    1.160000e+02        0.000000\n",
       "25%    2.512230e+06        5.000000\n",
       "50%    4.995815e+06       16.000000\n",
       "75%    7.496452e+06       51.000000\n",
       "max    9.999861e+06    49854.000000"
      ]
     },
     "execution_count": 5,
     "metadata": {},
     "output_type": "execute_result"
    }
   ],
   "source": [
    "df.describe()\n",
    "# max is significant bigger than 75%, so it is possible there is outlier"
   ]
  },
  {
   "cell_type": "code",
   "execution_count": 8,
   "id": "b198a9ed",
   "metadata": {},
   "outputs": [
    {
     "data": {
      "text/plain": [
       "<AxesSubplot:ylabel='sum_gamerounds'>"
      ]
     },
     "execution_count": 8,
     "metadata": {},
     "output_type": "execute_result"
    },
    {
     "data": {
      "image/png": "[encoded data removed]",
      "text/plain": [
       "<Figure size 432x288 with 1 Axes>"
      ]
     },
     "metadata": {
      "needs_background": "light"
     },
     "output_type": "display_data"
    }
   ],
   "source": [
    "sns.boxplot(y = df['sum_gamerounds'])"
   ]
  },
  {
   "cell_type": "code",
   "execution_count": 14,
   "id": "df5a05e2",
   "metadata": {},
   "outputs": [
    {
     "data": {
      "text/html": [
       "<div>\n",
       "<style scoped>\n",
       "    .dataframe tbody tr th:only-of-type {\n",
       "        vertical-align: middle;\n",
       "    }\n",
       "\n",
       "    .dataframe tbody tr th {\n",
       "        vertical-align: top;\n",
       "    }\n",
       "\n",
       "    .dataframe thead th {\n",
       "        text-align: right;\n",
       "    }\n",
       "</style>\n",
       "<table border=\"1\" class=\"dataframe\">\n",
       "  <thead>\n",
       "    <tr style=\"text-align: right;\">\n",
       "      <th></th>\n",
       "      <th>userid</th>\n",
       "      <th>version</th>\n",
       "      <th>sum_gamerounds</th>\n",
       "      <th>retention_1</th>\n",
       "      <th>retention_7</th>\n",
       "    </tr>\n",
       "  </thead>\n",
       "  <tbody>\n",
       "    <tr>\n",
       "      <th>57702</th>\n",
       "      <td>6390605.0</td>\n",
       "      <td>gate_30</td>\n",
       "      <td>49854.0</td>\n",
       "      <td>False</td>\n",
       "      <td>True</td>\n",
       "    </tr>\n",
       "  </tbody>\n",
       "</table>\n",
       "</div>"
      ],
      "text/plain": [
       "          userid  version  sum_gamerounds  retention_1  retention_7\n",
       "57702  6390605.0  gate_30         49854.0        False         True"
      ]
     },
     "execution_count": 14,
     "metadata": {},
     "output_type": "execute_result"
    }
   ],
   "source": [
    "# 非常明显有outliter, take a look\n",
    "outlier = df['sum_gamerounds']>40000\n",
    "df[outlier]"
   ]
  },
  {
   "cell_type": "code",
   "execution_count": 15,
   "id": "d846633d",
   "metadata": {},
   "outputs": [],
   "source": [
    "# 该异常值看起来有一个用户，完了49854关，有可能是通过作弊器通关，会影响后续的analysis，因此选择删除\n",
    "df = df[-outlier]"
   ]
  },
  {
   "cell_type": "code",
   "execution_count": 17,
   "id": "cb8d71e2",
   "metadata": {},
   "outputs": [
    {
     "data": {
      "text/plain": [
       "116.0        1\n",
       "488.0        1\n",
       "540.0        1\n",
       "1066.0       1\n",
       "1444.0       1\n",
       "            ..\n",
       "9994217.0    1\n",
       "9997049.0    1\n",
       "9996999.0    1\n",
       "9974108.0    1\n",
       "9999861.0    1\n",
       "Name: userid, Length: 90188, dtype: int64"
      ]
     },
     "execution_count": 17,
     "metadata": {},
     "output_type": "execute_result"
    }
   ],
   "source": [
    "df['userid'].value_counts().sort_values()\n",
    "#确认没有重复user"
   ]
  },
  {
   "cell_type": "code",
   "execution_count": 18,
   "id": "1f962dec",
   "metadata": {},
   "outputs": [
    {
     "data": {
      "text/plain": [
       "gate_40    45489\n",
       "gate_30    44699\n",
       "Name: version, dtype: int64"
      ]
     },
     "execution_count": 18,
     "metadata": {},
     "output_type": "execute_result"
    }
   ],
   "source": [
    "#check balance\n",
    "df['version'].value_counts()\n"
   ]
  },
  {
   "cell_type": "markdown",
   "id": "55e3de4c",
   "metadata": {},
   "source": [
    "# 3. compare gamerounds distribution by different version"
   ]
  },
  {
   "cell_type": "code",
   "execution_count": 25,
   "id": "36ad57e0",
   "metadata": {},
   "outputs": [
    {
     "data": {
      "text/html": [
       "<div>\n",
       "<style scoped>\n",
       "    .dataframe tbody tr th:only-of-type {\n",
       "        vertical-align: middle;\n",
       "    }\n",
       "\n",
       "    .dataframe tbody tr th {\n",
       "        vertical-align: top;\n",
       "    }\n",
       "\n",
       "    .dataframe thead th {\n",
       "        text-align: right;\n",
       "    }\n",
       "</style>\n",
       "<table border=\"1\" class=\"dataframe\">\n",
       "  <thead>\n",
       "    <tr style=\"text-align: right;\">\n",
       "      <th></th>\n",
       "      <th>version</th>\n",
       "      <th>sum_gamerounds</th>\n",
       "      <th>userid</th>\n",
       "    </tr>\n",
       "  </thead>\n",
       "  <tbody>\n",
       "    <tr>\n",
       "      <th>0</th>\n",
       "      <td>gate_30</td>\n",
       "      <td>0.0</td>\n",
       "      <td>1937</td>\n",
       "    </tr>\n",
       "    <tr>\n",
       "      <th>1</th>\n",
       "      <td>gate_30</td>\n",
       "      <td>1.0</td>\n",
       "      <td>2749</td>\n",
       "    </tr>\n",
       "    <tr>\n",
       "      <th>2</th>\n",
       "      <td>gate_30</td>\n",
       "      <td>2.0</td>\n",
       "      <td>2198</td>\n",
       "    </tr>\n",
       "    <tr>\n",
       "      <th>3</th>\n",
       "      <td>gate_30</td>\n",
       "      <td>3.0</td>\n",
       "      <td>1899</td>\n",
       "    </tr>\n",
       "    <tr>\n",
       "      <th>4</th>\n",
       "      <td>gate_30</td>\n",
       "      <td>4.0</td>\n",
       "      <td>1831</td>\n",
       "    </tr>\n",
       "  </tbody>\n",
       "</table>\n",
       "</div>"
      ],
      "text/plain": [
       "   version  sum_gamerounds  userid\n",
       "0  gate_30             0.0    1937\n",
       "1  gate_30             1.0    2749\n",
       "2  gate_30             2.0    2198\n",
       "3  gate_30             3.0    1899\n",
       "4  gate_30             4.0    1831"
      ]
     },
     "execution_count": 25,
     "metadata": {},
     "output_type": "execute_result"
    }
   ],
   "source": [
    "df1 = df.groupby(['version','sum_gamerounds'])['userid'].count().reset_index()\n",
    "df1.head()"
   ]
  },
  {
   "cell_type": "code",
   "execution_count": 26,
   "id": "89fa7adb",
   "metadata": {},
   "outputs": [
    {
     "data": {
      "image/png": "[encoded data removed]",
      "text/plain": [
       "<Figure size 864x432 with 1 Axes>"
      ]
     },
     "metadata": {
      "needs_background": "light"
     },
     "output_type": "display_data"
    }
   ],
   "source": [
    "plt.figure(figsize=(12, 6))\n",
    "sns.lineplot(data = df1, x = 'sum_gamerounds', y = 'userid', hue = 'version')\n",
    "\n",
    "plt.title('Game Rounds Distribution by Version')\n",
    "plt.xlabel('Number of Game Rounds')\n",
    "plt.ylabel('Number of Users')\n",
    "plt.xlim(0, 100)  # 限制横轴最大值避免长尾干扰\n",
    "plt.legend(title='Version')\n",
    "plt.tight_layout()\n",
    "plt.show()\n",
    "\n",
    "# 看起来，gate_30和gate_40的用户行为并没有太大的区别，大部分用户都在前几个rounds就不再玩了，因此0-20 round，user量下降很快\n",
    "# 但是round 20之后，user就比较稳定了，下降的幅度也比较小\n",
    "# 两组user的行为看起来在30-40rounds是，gate_30这一组的user稍稍多一些，但around 45round之后，和gate_40就没有明显区别了，且趋于稳定了\n"
   ]
  },
  {
   "cell_type": "markdown",
   "id": "00fa618d",
   "metadata": {},
   "source": [
    "# 4. booststraping-retention 1"
   ]
  },
  {
   "cell_type": "code",
   "execution_count": 75,
   "id": "8b2c4a76",
   "metadata": {},
   "outputs": [
    {
     "data": {
      "text/plain": [
       "version\n",
       "gate_30    0.448198\n",
       "gate_40    0.442283\n",
       "Name: retention_1, dtype: float64"
      ]
     },
     "execution_count": 75,
     "metadata": {},
     "output_type": "execute_result"
    }
   ],
   "source": [
    "df.groupby('version')['retention_1'].mean()\n",
    "\n",
    "# gate_30的第一天的留存率为44.81%， gate_40的为44.23%,略低于gate_30\n",
    "# 但不足以说明gate_30就好于gate_40\n",
    "# 需要做statistics analysis\n"
   ]
  },
  {
   "cell_type": "code",
   "execution_count": 76,
   "id": "b901873e",
   "metadata": {},
   "outputs": [
    {
     "data": {
      "text/html": [
       "<div>\n",
       "<style scoped>\n",
       "    .dataframe tbody tr th:only-of-type {\n",
       "        vertical-align: middle;\n",
       "    }\n",
       "\n",
       "    .dataframe tbody tr th {\n",
       "        vertical-align: top;\n",
       "    }\n",
       "\n",
       "    .dataframe thead th {\n",
       "        text-align: right;\n",
       "    }\n",
       "</style>\n",
       "<table border=\"1\" class=\"dataframe\">\n",
       "  <thead>\n",
       "    <tr style=\"text-align: right;\">\n",
       "      <th></th>\n",
       "      <th>userid</th>\n",
       "      <th>version</th>\n",
       "      <th>sum_gamerounds</th>\n",
       "      <th>retention_1</th>\n",
       "      <th>retention_7</th>\n",
       "    </tr>\n",
       "  </thead>\n",
       "  <tbody>\n",
       "    <tr>\n",
       "      <th>8487</th>\n",
       "      <td>936031.0</td>\n",
       "      <td>gate_40</td>\n",
       "      <td>3.0</td>\n",
       "      <td>False</td>\n",
       "      <td>False</td>\n",
       "    </tr>\n",
       "    <tr>\n",
       "      <th>3908</th>\n",
       "      <td>433038.0</td>\n",
       "      <td>gate_30</td>\n",
       "      <td>296.0</td>\n",
       "      <td>True</td>\n",
       "      <td>True</td>\n",
       "    </tr>\n",
       "    <tr>\n",
       "      <th>22030</th>\n",
       "      <td>2452902.0</td>\n",
       "      <td>gate_30</td>\n",
       "      <td>31.0</td>\n",
       "      <td>True</td>\n",
       "      <td>False</td>\n",
       "    </tr>\n",
       "    <tr>\n",
       "      <th>72606</th>\n",
       "      <td>8043912.0</td>\n",
       "      <td>gate_40</td>\n",
       "      <td>7.0</td>\n",
       "      <td>False</td>\n",
       "      <td>False</td>\n",
       "    </tr>\n",
       "    <tr>\n",
       "      <th>66856</th>\n",
       "      <td>7403616.0</td>\n",
       "      <td>gate_40</td>\n",
       "      <td>6.0</td>\n",
       "      <td>False</td>\n",
       "      <td>False</td>\n",
       "    </tr>\n",
       "    <tr>\n",
       "      <th>...</th>\n",
       "      <td>...</td>\n",
       "      <td>...</td>\n",
       "      <td>...</td>\n",
       "      <td>...</td>\n",
       "      <td>...</td>\n",
       "    </tr>\n",
       "    <tr>\n",
       "      <th>13717</th>\n",
       "      <td>1520774.0</td>\n",
       "      <td>gate_30</td>\n",
       "      <td>57.0</td>\n",
       "      <td>False</td>\n",
       "      <td>False</td>\n",
       "    </tr>\n",
       "    <tr>\n",
       "      <th>34548</th>\n",
       "      <td>3827211.0</td>\n",
       "      <td>gate_40</td>\n",
       "      <td>43.0</td>\n",
       "      <td>False</td>\n",
       "      <td>False</td>\n",
       "    </tr>\n",
       "    <tr>\n",
       "      <th>17608</th>\n",
       "      <td>1962032.0</td>\n",
       "      <td>gate_30</td>\n",
       "      <td>13.0</td>\n",
       "      <td>False</td>\n",
       "      <td>False</td>\n",
       "    </tr>\n",
       "    <tr>\n",
       "      <th>20437</th>\n",
       "      <td>2272668.0</td>\n",
       "      <td>gate_40</td>\n",
       "      <td>29.0</td>\n",
       "      <td>True</td>\n",
       "      <td>False</td>\n",
       "    </tr>\n",
       "    <tr>\n",
       "      <th>19334</th>\n",
       "      <td>2150710.0</td>\n",
       "      <td>gate_30</td>\n",
       "      <td>0.0</td>\n",
       "      <td>False</td>\n",
       "      <td>False</td>\n",
       "    </tr>\n",
       "  </tbody>\n",
       "</table>\n",
       "<p>90188 rows × 5 columns</p>\n",
       "</div>"
      ],
      "text/plain": [
       "          userid  version  sum_gamerounds  retention_1  retention_7\n",
       "8487    936031.0  gate_40             3.0        False        False\n",
       "3908    433038.0  gate_30           296.0         True         True\n",
       "22030  2452902.0  gate_30            31.0         True        False\n",
       "72606  8043912.0  gate_40             7.0        False        False\n",
       "66856  7403616.0  gate_40             6.0        False        False\n",
       "...          ...      ...             ...          ...          ...\n",
       "13717  1520774.0  gate_30            57.0        False        False\n",
       "34548  3827211.0  gate_40            43.0        False        False\n",
       "17608  1962032.0  gate_30            13.0        False        False\n",
       "20437  2272668.0  gate_40            29.0         True        False\n",
       "19334  2150710.0  gate_30             0.0        False        False\n",
       "\n",
       "[90188 rows x 5 columns]"
      ]
     },
     "execution_count": 76,
     "metadata": {},
     "output_type": "execute_result"
    }
   ],
   "source": [
    "#Bootstrapping 是非参数方法，不需要分布假设\n",
    "#game rounds的distribution右偏，所以用bootstrapping比较合适\n",
    "\n",
    "#重采样\n",
    "df.sample(frac = 1, replace = True)"
   ]
  },
  {
   "cell_type": "code",
   "execution_count": 84,
   "id": "6e752427",
   "metadata": {},
   "outputs": [],
   "source": [
    "#重复 1000 次，构造 bootstrap 分布 for each AB-group\n",
    "boot_1d = []\n",
    "\n",
    "for i in range(1000):\n",
    "    boot_mean = df.sample(frac = 1, replace = True).groupby('version')['retention_1'].mean()\n",
    "    boot_1d.append(boot_mean)"
   ]
  },
  {
   "cell_type": "code",
   "execution_count": 85,
   "id": "6217deaf",
   "metadata": {},
   "outputs": [
    {
     "data": {
      "text/html": [
       "<div>\n",
       "<style scoped>\n",
       "    .dataframe tbody tr th:only-of-type {\n",
       "        vertical-align: middle;\n",
       "    }\n",
       "\n",
       "    .dataframe tbody tr th {\n",
       "        vertical-align: top;\n",
       "    }\n",
       "\n",
       "    .dataframe thead th {\n",
       "        text-align: right;\n",
       "    }\n",
       "</style>\n",
       "<table border=\"1\" class=\"dataframe\">\n",
       "  <thead>\n",
       "    <tr style=\"text-align: right;\">\n",
       "      <th>version</th>\n",
       "      <th>gate_30</th>\n",
       "      <th>gate_40</th>\n",
       "    </tr>\n",
       "  </thead>\n",
       "  <tbody>\n",
       "    <tr>\n",
       "      <th>retention_1</th>\n",
       "      <td>0.448266</td>\n",
       "      <td>0.440378</td>\n",
       "    </tr>\n",
       "    <tr>\n",
       "      <th>retention_1</th>\n",
       "      <td>0.451468</td>\n",
       "      <td>0.441389</td>\n",
       "    </tr>\n",
       "    <tr>\n",
       "      <th>retention_1</th>\n",
       "      <td>0.446875</td>\n",
       "      <td>0.442421</td>\n",
       "    </tr>\n",
       "    <tr>\n",
       "      <th>retention_1</th>\n",
       "      <td>0.451169</td>\n",
       "      <td>0.439449</td>\n",
       "    </tr>\n",
       "    <tr>\n",
       "      <th>retention_1</th>\n",
       "      <td>0.445325</td>\n",
       "      <td>0.438321</td>\n",
       "    </tr>\n",
       "  </tbody>\n",
       "</table>\n",
       "</div>"
      ],
      "text/plain": [
       "version       gate_30   gate_40\n",
       "retention_1  0.448266  0.440378\n",
       "retention_1  0.451468  0.441389\n",
       "retention_1  0.446875  0.442421\n",
       "retention_1  0.451169  0.439449\n",
       "retention_1  0.445325  0.438321"
      ]
     },
     "execution_count": 85,
     "metadata": {},
     "output_type": "execute_result"
    }
   ],
   "source": [
    "boot_1d = pd.DataFrame(boot_1d)\n",
    "boot_1d.head()"
   ]
  },
  {
   "cell_type": "code",
   "execution_count": 86,
   "id": "22dd29a5",
   "metadata": {},
   "outputs": [
    {
     "data": {
      "text/plain": [
       "<AxesSubplot:ylabel='Density'>"
      ]
     },
     "execution_count": 86,
     "metadata": {},
     "output_type": "execute_result"
    },
    {
     "data": {
      "image/png": "[encoded data removed]",
      "text/plain": [
       "<Figure size 432x288 with 1 Axes>"
      ]
     },
     "metadata": {
      "needs_background": "light"
     },
     "output_type": "display_data"
    }
   ],
   "source": [
    "#Density Estimate plot of the bootstrap distributions\n",
    "boot_1d.plot(kind = 'density')\n",
    "\n",
    "#从分布来看，gate_40的1d留存率整体要少于gate_30"
   ]
  },
  {
   "cell_type": "code",
   "execution_count": 87,
   "id": "7e2b9543",
   "metadata": {},
   "outputs": [],
   "source": [
    "#calculate % difference between the two AB-groups\n",
    "boot_1d['diff'] = (boot_1d['gate_40'] - boot_1d['gate_30'])*100 / boot_1d['gate_30'] "
   ]
  },
  {
   "cell_type": "code",
   "execution_count": 88,
   "id": "b2e87301",
   "metadata": {},
   "outputs": [
    {
     "data": {
      "text/html": [
       "<div>\n",
       "<style scoped>\n",
       "    .dataframe tbody tr th:only-of-type {\n",
       "        vertical-align: middle;\n",
       "    }\n",
       "\n",
       "    .dataframe tbody tr th {\n",
       "        vertical-align: top;\n",
       "    }\n",
       "\n",
       "    .dataframe thead th {\n",
       "        text-align: right;\n",
       "    }\n",
       "</style>\n",
       "<table border=\"1\" class=\"dataframe\">\n",
       "  <thead>\n",
       "    <tr style=\"text-align: right;\">\n",
       "      <th>version</th>\n",
       "      <th>gate_30</th>\n",
       "      <th>gate_40</th>\n",
       "      <th>diff</th>\n",
       "    </tr>\n",
       "  </thead>\n",
       "  <tbody>\n",
       "    <tr>\n",
       "      <th>retention_1</th>\n",
       "      <td>0.448266</td>\n",
       "      <td>0.440378</td>\n",
       "      <td>-1.759663</td>\n",
       "    </tr>\n",
       "    <tr>\n",
       "      <th>retention_1</th>\n",
       "      <td>0.451468</td>\n",
       "      <td>0.441389</td>\n",
       "      <td>-2.232483</td>\n",
       "    </tr>\n",
       "    <tr>\n",
       "      <th>retention_1</th>\n",
       "      <td>0.446875</td>\n",
       "      <td>0.442421</td>\n",
       "      <td>-0.996676</td>\n",
       "    </tr>\n",
       "    <tr>\n",
       "      <th>retention_1</th>\n",
       "      <td>0.451169</td>\n",
       "      <td>0.439449</td>\n",
       "      <td>-2.597605</td>\n",
       "    </tr>\n",
       "    <tr>\n",
       "      <th>retention_1</th>\n",
       "      <td>0.445325</td>\n",
       "      <td>0.438321</td>\n",
       "      <td>-1.572896</td>\n",
       "    </tr>\n",
       "  </tbody>\n",
       "</table>\n",
       "</div>"
      ],
      "text/plain": [
       "version       gate_30   gate_40      diff\n",
       "retention_1  0.448266  0.440378 -1.759663\n",
       "retention_1  0.451468  0.441389 -2.232483\n",
       "retention_1  0.446875  0.442421 -0.996676\n",
       "retention_1  0.451169  0.439449 -2.597605\n",
       "retention_1  0.445325  0.438321 -1.572896"
      ]
     },
     "execution_count": 88,
     "metadata": {},
     "output_type": "execute_result"
    }
   ],
   "source": [
    "boot_1d.head()"
   ]
  },
  {
   "cell_type": "code",
   "execution_count": 89,
   "id": "e48fb95c",
   "metadata": {},
   "outputs": [
    {
     "data": {
      "text/plain": [
       "<AxesSubplot:ylabel='Density'>"
      ]
     },
     "execution_count": 89,
     "metadata": {},
     "output_type": "execute_result"
    },
    {
     "data": {
      "image/png": "[encoded data removed]",
      "text/plain": [
       "<Figure size 432x288 with 1 Axes>"
      ]
     },
     "metadata": {
      "needs_background": "light"
     },
     "output_type": "display_data"
    }
   ],
   "source": [
    "boot_1d['diff'].plot(kind = 'density')"
   ]
  },
  {
   "cell_type": "code",
   "execution_count": 90,
   "id": "b0b14732",
   "metadata": {},
   "outputs": [
    {
     "data": {
      "text/plain": [
       "0.954"
      ]
     },
     "execution_count": 90,
     "metadata": {},
     "output_type": "execute_result"
    }
   ],
   "source": [
    "prob = (boot_1d['diff']<0).mean()\n",
    "prob\n",
    "# 95.4% of distribution is less than 0, 说明有95.4%的概率gate_40变差了"
   ]
  },
  {
   "cell_type": "markdown",
   "id": "16b15f2e",
   "metadata": {},
   "source": [
    "# 5. retention 7"
   ]
  },
  {
   "cell_type": "code",
   "execution_count": 91,
   "id": "9f2cc90d",
   "metadata": {},
   "outputs": [
    {
     "data": {
      "text/plain": [
       "version\n",
       "gate_30    0.190183\n",
       "gate_40    0.182000\n",
       "Name: retention_7, dtype: float64"
      ]
     },
     "execution_count": 91,
     "metadata": {},
     "output_type": "execute_result"
    }
   ],
   "source": [
    "df.groupby('version')['retention_7'].mean()\n",
    "#看起来gate_40的7天留存率比gate_30低了0.8%"
   ]
  },
  {
   "cell_type": "code",
   "execution_count": 92,
   "id": "375e2d21",
   "metadata": {},
   "outputs": [],
   "source": [
    "boot_7d = []\n",
    "for i in range(1000):\n",
    "    boot_mean = df.sample(frac = 1, replace = True).groupby('version')['retention_7'].mean()\n",
    "    boot_7d.append(boot_mean)"
   ]
  },
  {
   "cell_type": "code",
   "execution_count": 93,
   "id": "121973b4",
   "metadata": {},
   "outputs": [
    {
     "data": {
      "text/html": [
       "<div>\n",
       "<style scoped>\n",
       "    .dataframe tbody tr th:only-of-type {\n",
       "        vertical-align: middle;\n",
       "    }\n",
       "\n",
       "    .dataframe tbody tr th {\n",
       "        vertical-align: top;\n",
       "    }\n",
       "\n",
       "    .dataframe thead th {\n",
       "        text-align: right;\n",
       "    }\n",
       "</style>\n",
       "<table border=\"1\" class=\"dataframe\">\n",
       "  <thead>\n",
       "    <tr style=\"text-align: right;\">\n",
       "      <th>version</th>\n",
       "      <th>gate_30</th>\n",
       "      <th>gate_40</th>\n",
       "    </tr>\n",
       "  </thead>\n",
       "  <tbody>\n",
       "    <tr>\n",
       "      <th>retention_7</th>\n",
       "      <td>0.187680</td>\n",
       "      <td>0.184811</td>\n",
       "    </tr>\n",
       "    <tr>\n",
       "      <th>retention_7</th>\n",
       "      <td>0.188504</td>\n",
       "      <td>0.188508</td>\n",
       "    </tr>\n",
       "    <tr>\n",
       "      <th>retention_7</th>\n",
       "      <td>0.191361</td>\n",
       "      <td>0.182301</td>\n",
       "    </tr>\n",
       "    <tr>\n",
       "      <th>retention_7</th>\n",
       "      <td>0.189557</td>\n",
       "      <td>0.183201</td>\n",
       "    </tr>\n",
       "    <tr>\n",
       "      <th>retention_7</th>\n",
       "      <td>0.188902</td>\n",
       "      <td>0.184648</td>\n",
       "    </tr>\n",
       "  </tbody>\n",
       "</table>\n",
       "</div>"
      ],
      "text/plain": [
       "version       gate_30   gate_40\n",
       "retention_7  0.187680  0.184811\n",
       "retention_7  0.188504  0.188508\n",
       "retention_7  0.191361  0.182301\n",
       "retention_7  0.189557  0.183201\n",
       "retention_7  0.188902  0.184648"
      ]
     },
     "execution_count": 93,
     "metadata": {},
     "output_type": "execute_result"
    }
   ],
   "source": [
    "boot_7d = pd.DataFrame(boot_7d)\n",
    "boot_7d.head()"
   ]
  },
  {
   "cell_type": "code",
   "execution_count": 94,
   "id": "da407eb0",
   "metadata": {},
   "outputs": [
    {
     "data": {
      "text/plain": [
       "<AxesSubplot:ylabel='Density'>"
      ]
     },
     "execution_count": 94,
     "metadata": {},
     "output_type": "execute_result"
    },
    {
     "data": {
      "image/png": "[encoded data removed]",
      "text/plain": [
       "<Figure size 432x288 with 1 Axes>"
      ]
     },
     "metadata": {
      "needs_background": "light"
     },
     "output_type": "display_data"
    }
   ],
   "source": [
    "boot_7d.plot(kind = 'density')"
   ]
  },
  {
   "cell_type": "code",
   "execution_count": 96,
   "id": "8de8e288",
   "metadata": {},
   "outputs": [
    {
     "data": {
      "text/plain": [
       "<AxesSubplot:ylabel='Density'>"
      ]
     },
     "execution_count": 96,
     "metadata": {},
     "output_type": "execute_result"
    },
    {
     "data": {
      "image/png": "[encoded data removed]",
      "text/plain": [
       "<Figure size 432x288 with 1 Axes>"
      ]
     },
     "metadata": {
      "needs_background": "light"
     },
     "output_type": "display_data"
    }
   ],
   "source": [
    "boot_7d['diff'] = (boot_7d['gate_40'] - boot_7d['gate_30'])*100 / boot_7d['gate_30'] \n",
    "boot_7d['diff'].plot(kind = 'density')"
   ]
  },
  {
   "cell_type": "code",
   "execution_count": 97,
   "id": "3c18c718",
   "metadata": {},
   "outputs": [
    {
     "data": {
      "text/plain": [
       "0.999"
      ]
     },
     "execution_count": 97,
     "metadata": {},
     "output_type": "execute_result"
    }
   ],
   "source": [
    "(boot_7d['diff']<0).mean()"
   ]
  },
  {
   "cell_type": "code",
   "execution_count": 98,
   "id": "e3a0e4e5",
   "metadata": {},
   "outputs": [],
   "source": [
    "#从上图可以看出来 有99.9%的概率gate_30的7天留存率优于gate_40"
   ]
  },
  {
   "cell_type": "markdown",
   "id": "c0ac1fab",
   "metadata": {},
   "source": [
    "从bootstrap的分析结果来看，在有99.9%的概率gate_30的7天留存率优于gate_40，这是非常显著的\n",
    "\n",
    "因此，保留gate_30比较好，因为会有较高的1天以及7天的留存率\n",
    "\n",
    "可能的解释：\n",
    "\n",
    "如果关卡被推迟到第 40 级，玩家会更可能在中途就感到厌倦，没有足够的耐心坚持到40级就会退出游戏，因此留存率会就下降了\n",
    "\n",
    "但是这不能解释为什么一天的留存率也降低了？\n",
    "\n",
    "猜测，是否是因为玩家感知目标更远，降低了动力？有待验证。"
   ]
  },
  {
   "cell_type": "code",
   "execution_count": 104,
   "id": "cef57f42",
   "metadata": {},
   "outputs": [
    {
     "name": "stdout",
     "output_type": "stream",
     "text": [
      "Gate 30 retention 95% CI: [0.18667084 0.1937851 ]\n",
      "Gate 40 retention 95% CI: [0.17848271 0.18549539]\n"
     ]
    }
   ],
   "source": [
    "#使用package\n",
    "\n",
    "from scikits.bootstrap import ci\n",
    "\n",
    "\n",
    "gate_30 = df[df['version'] == 'gate_30']['retention_7']\n",
    "gate_40 = df[df['version'] == 'gate_40']['retention_7']\n",
    "\n",
    "# 计算 gate_30、40 的均值的 95% bootstrap 置信区间\n",
    "ci_gate_30 = ci(data=gate_30.values, statfunction=np.mean, alpha=0.05)\n",
    "ci_gate_40 = ci(data=gate_40.values, statfunction=np.mean, alpha=0.05)\n",
    "\n",
    "print(\"Gate 30 retention 95% CI:\", ci_gate_30)\n",
    "print(\"Gate 40 retention 95% CI:\", ci_gate_40)\n"
   ]
  },
  {
   "cell_type": "markdown",
   "id": "b1322caa",
   "metadata": {},
   "source": [
    "# 6. EDA+Correlation Relationship"
   ]
  },
  {
   "cell_type": "code",
   "execution_count": 109,
   "id": "b7535dbd",
   "metadata": {},
   "outputs": [
    {
     "data": {
      "text/html": [
       "<div>\n",
       "<style scoped>\n",
       "    .dataframe tbody tr th:only-of-type {\n",
       "        vertical-align: middle;\n",
       "    }\n",
       "\n",
       "    .dataframe tbody tr th {\n",
       "        vertical-align: top;\n",
       "    }\n",
       "\n",
       "    .dataframe thead th {\n",
       "        text-align: right;\n",
       "    }\n",
       "</style>\n",
       "<table border=\"1\" class=\"dataframe\">\n",
       "  <thead>\n",
       "    <tr style=\"text-align: right;\">\n",
       "      <th></th>\n",
       "      <th>userid</th>\n",
       "      <th>version</th>\n",
       "      <th>sum_gamerounds</th>\n",
       "      <th>retention_1</th>\n",
       "      <th>retention_7</th>\n",
       "    </tr>\n",
       "  </thead>\n",
       "  <tbody>\n",
       "    <tr>\n",
       "      <th>0</th>\n",
       "      <td>116.0</td>\n",
       "      <td>gate_30</td>\n",
       "      <td>3.0</td>\n",
       "      <td>False</td>\n",
       "      <td>False</td>\n",
       "    </tr>\n",
       "    <tr>\n",
       "      <th>1</th>\n",
       "      <td>337.0</td>\n",
       "      <td>gate_30</td>\n",
       "      <td>38.0</td>\n",
       "      <td>True</td>\n",
       "      <td>False</td>\n",
       "    </tr>\n",
       "    <tr>\n",
       "      <th>2</th>\n",
       "      <td>377.0</td>\n",
       "      <td>gate_40</td>\n",
       "      <td>165.0</td>\n",
       "      <td>True</td>\n",
       "      <td>False</td>\n",
       "    </tr>\n",
       "    <tr>\n",
       "      <th>3</th>\n",
       "      <td>483.0</td>\n",
       "      <td>gate_40</td>\n",
       "      <td>1.0</td>\n",
       "      <td>False</td>\n",
       "      <td>False</td>\n",
       "    </tr>\n",
       "    <tr>\n",
       "      <th>4</th>\n",
       "      <td>488.0</td>\n",
       "      <td>gate_40</td>\n",
       "      <td>179.0</td>\n",
       "      <td>True</td>\n",
       "      <td>True</td>\n",
       "    </tr>\n",
       "  </tbody>\n",
       "</table>\n",
       "</div>"
      ],
      "text/plain": [
       "   userid  version  sum_gamerounds  retention_1  retention_7\n",
       "0   116.0  gate_30             3.0        False        False\n",
       "1   337.0  gate_30            38.0         True        False\n",
       "2   377.0  gate_40           165.0         True        False\n",
       "3   483.0  gate_40             1.0        False        False\n",
       "4   488.0  gate_40           179.0         True         True"
      ]
     },
     "execution_count": 109,
     "metadata": {},
     "output_type": "execute_result"
    }
   ],
   "source": [
    "df.head()"
   ]
  },
  {
   "cell_type": "code",
   "execution_count": 118,
   "id": "c7509485",
   "metadata": {},
   "outputs": [
    {
     "data": {
      "text/plain": [
       "<AxesSubplot:xlabel='retention_day', ylabel='retention_rate'>"
      ]
     },
     "execution_count": 118,
     "metadata": {},
     "output_type": "execute_result"
    },
    {
     "data": {
      "image/png": "[encoded data removed]",
      "text/plain": [
       "<Figure size 720x432 with 1 Axes>"
      ]
     },
     "metadata": {},
     "output_type": "display_data"
    }
   ],
   "source": [
    "# False=0, True=1\n",
    "df['retention_1'] = df['retention_1'].astype(int)\n",
    "df['retention_7'] = df['retention_7'].astype(int)\n",
    "\n",
    "\n",
    "retention_means = df.groupby('version')[['retention_1', 'retention_7']].mean().reset_index()\n",
    "\n",
    "retention_long = retention_means.melt(id_vars='version', \n",
    "                                      value_vars=['retention_1', 'retention_7'],\n",
    "                                      var_name='retention_day',\n",
    "                                      value_name='retention_rate')\n",
    "\n",
    "# plot\n",
    "plt.figure(figsize=(10,6))\n",
    "sns.lineplot(data=retention_long, x='retention_day', y='retention_rate', hue='version', marker='o')\n",
    "\n",
    "#可以看出来，整体gate_30的留存率是好于gate_40的\n",
    "#并且gate_30与gate_40的留存率的差距逐渐拉大\n"
   ]
  },
  {
   "cell_type": "code",
   "execution_count": 123,
   "id": "e3a5dc51",
   "metadata": {},
   "outputs": [],
   "source": [
    "avg_gamerounds = df.groupby(['version','retention_1','retention_7'])['sum_gamerounds'].mean().reset_index()\n"
   ]
  },
  {
   "cell_type": "code",
   "execution_count": 124,
   "id": "0aaee41f",
   "metadata": {},
   "outputs": [
    {
     "data": {
      "text/html": [
       "<div>\n",
       "<style scoped>\n",
       "    .dataframe tbody tr th:only-of-type {\n",
       "        vertical-align: middle;\n",
       "    }\n",
       "\n",
       "    .dataframe tbody tr th {\n",
       "        vertical-align: top;\n",
       "    }\n",
       "\n",
       "    .dataframe thead th {\n",
       "        text-align: right;\n",
       "    }\n",
       "</style>\n",
       "<table border=\"1\" class=\"dataframe\">\n",
       "  <thead>\n",
       "    <tr style=\"text-align: right;\">\n",
       "      <th></th>\n",
       "      <th>version</th>\n",
       "      <th>retention_1</th>\n",
       "      <th>retention_7</th>\n",
       "      <th>sum_gamerounds</th>\n",
       "    </tr>\n",
       "  </thead>\n",
       "  <tbody>\n",
       "    <tr>\n",
       "      <th>0</th>\n",
       "      <td>gate_30</td>\n",
       "      <td>0</td>\n",
       "      <td>0</td>\n",
       "      <td>11.819746</td>\n",
       "    </tr>\n",
       "    <tr>\n",
       "      <th>1</th>\n",
       "      <td>gate_30</td>\n",
       "      <td>0</td>\n",
       "      <td>1</td>\n",
       "      <td>73.169315</td>\n",
       "    </tr>\n",
       "    <tr>\n",
       "      <th>2</th>\n",
       "      <td>gate_30</td>\n",
       "      <td>1</td>\n",
       "      <td>0</td>\n",
       "      <td>49.694490</td>\n",
       "    </tr>\n",
       "    <tr>\n",
       "      <th>3</th>\n",
       "      <td>gate_30</td>\n",
       "      <td>1</td>\n",
       "      <td>1</td>\n",
       "      <td>183.886309</td>\n",
       "    </tr>\n",
       "    <tr>\n",
       "      <th>4</th>\n",
       "      <td>gate_40</td>\n",
       "      <td>0</td>\n",
       "      <td>0</td>\n",
       "      <td>11.913294</td>\n",
       "    </tr>\n",
       "    <tr>\n",
       "      <th>5</th>\n",
       "      <td>gate_40</td>\n",
       "      <td>0</td>\n",
       "      <td>1</td>\n",
       "      <td>75.261139</td>\n",
       "    </tr>\n",
       "    <tr>\n",
       "      <th>6</th>\n",
       "      <td>gate_40</td>\n",
       "      <td>1</td>\n",
       "      <td>0</td>\n",
       "      <td>50.025490</td>\n",
       "    </tr>\n",
       "    <tr>\n",
       "      <th>7</th>\n",
       "      <td>gate_40</td>\n",
       "      <td>1</td>\n",
       "      <td>1</td>\n",
       "      <td>190.282355</td>\n",
       "    </tr>\n",
       "  </tbody>\n",
       "</table>\n",
       "</div>"
      ],
      "text/plain": [
       "   version  retention_1  retention_7  sum_gamerounds\n",
       "0  gate_30            0            0       11.819746\n",
       "1  gate_30            0            1       73.169315\n",
       "2  gate_30            1            0       49.694490\n",
       "3  gate_30            1            1      183.886309\n",
       "4  gate_40            0            0       11.913294\n",
       "5  gate_40            0            1       75.261139\n",
       "6  gate_40            1            0       50.025490\n",
       "7  gate_40            1            1      190.282355"
      ]
     },
     "execution_count": 124,
     "metadata": {},
     "output_type": "execute_result"
    }
   ],
   "source": [
    "avg_gamerounds"
   ]
  },
  {
   "cell_type": "code",
   "execution_count": 127,
   "id": "7618c8b6",
   "metadata": {},
   "outputs": [
    {
     "data": {
      "image/png": "[encoded data removed]",
      "text/plain": [
       "<Figure size 788.8x360 with 2 Axes>"
      ]
     },
     "metadata": {},
     "output_type": "display_data"
    }
   ],
   "source": [
    "g = sns.catplot(\n",
    "    data=avg_gamerounds,\n",
    "    x='retention_1',\n",
    "    y='sum_gamerounds',\n",
    "    hue='retention_7',\n",
    "    col='version',\n",
    "    kind='bar',\n",
    "    height=5,\n",
    "    aspect=1\n",
    ")\n",
    "\n",
    "g.set_axis_labels(\"1-day Retention\", \"Average Sum of Game Rounds\")\n",
    "g.set_titles(\"Version: {col_name}\")\n",
    "g._legend.set_title(\"7-day Retention\")\n",
    "\n",
    "plt.show()"
   ]
  },
  {
   "cell_type": "markdown",
   "id": "8fa80b04",
   "metadata": {},
   "source": [
    "从图里看，7天都留下来的玩家，在gate_40的情况下，玩的关数比较多\n",
    "\n",
    "因此我们认为，gate_40对于能坚持玩下来的玩家来说，是可以提高玩家玩的关数的，但是大部分的玩家没有耐心\n",
    "\n"
   ]
  },
  {
   "cell_type": "code",
   "execution_count": 132,
   "id": "da116598",
   "metadata": {},
   "outputs": [],
   "source": [
    "df['retention_1'] = df['retention_1'].astype(int)\n",
    "df['retention_7'] = df['retention_7'].astype(int)\n",
    "\n",
    "#sum_gamerounds分成7份，label从1到7\n",
    "df['gamerounds_bin'] = pd.qcut(df['sum_gamerounds'], 7, labels=[1,2,3,4,5,6,7])\n",
    "df['gamerounds_bin'] = df['gamerounds_bin'].astype(int)\n",
    "\n",
    "retention_by_bin = df.groupby('gamerounds_bin').agg(\n",
    "    retention_1_rate = ('retention_1', 'mean'),\n",
    "    retention_7_rate = ('retention_7', 'mean')\n",
    ").reset_index()"
   ]
  },
  {
   "cell_type": "code",
   "execution_count": 133,
   "id": "671c4332",
   "metadata": {},
   "outputs": [
    {
     "data": {
      "text/html": [
       "<div>\n",
       "<style scoped>\n",
       "    .dataframe tbody tr th:only-of-type {\n",
       "        vertical-align: middle;\n",
       "    }\n",
       "\n",
       "    .dataframe tbody tr th {\n",
       "        vertical-align: top;\n",
       "    }\n",
       "\n",
       "    .dataframe thead th {\n",
       "        text-align: right;\n",
       "    }\n",
       "</style>\n",
       "<table border=\"1\" class=\"dataframe\">\n",
       "  <thead>\n",
       "    <tr style=\"text-align: right;\">\n",
       "      <th></th>\n",
       "      <th>gamerounds_bin</th>\n",
       "      <th>retention_1_rate</th>\n",
       "      <th>retention_7_rate</th>\n",
       "    </tr>\n",
       "  </thead>\n",
       "  <tbody>\n",
       "    <tr>\n",
       "      <th>0</th>\n",
       "      <td>1</td>\n",
       "      <td>0.037629</td>\n",
       "      <td>0.009690</td>\n",
       "    </tr>\n",
       "    <tr>\n",
       "      <th>1</th>\n",
       "      <td>2</td>\n",
       "      <td>0.120461</td>\n",
       "      <td>0.018080</td>\n",
       "    </tr>\n",
       "    <tr>\n",
       "      <th>2</th>\n",
       "      <td>3</td>\n",
       "      <td>0.257069</td>\n",
       "      <td>0.036356</td>\n",
       "    </tr>\n",
       "    <tr>\n",
       "      <th>3</th>\n",
       "      <td>4</td>\n",
       "      <td>0.427001</td>\n",
       "      <td>0.072561</td>\n",
       "    </tr>\n",
       "    <tr>\n",
       "      <th>4</th>\n",
       "      <td>5</td>\n",
       "      <td>0.630745</td>\n",
       "      <td>0.146817</td>\n",
       "    </tr>\n",
       "    <tr>\n",
       "      <th>5</th>\n",
       "      <td>6</td>\n",
       "      <td>0.786403</td>\n",
       "      <td>0.325492</td>\n",
       "    </tr>\n",
       "    <tr>\n",
       "      <th>6</th>\n",
       "      <td>7</td>\n",
       "      <td>0.899116</td>\n",
       "      <td>0.705717</td>\n",
       "    </tr>\n",
       "  </tbody>\n",
       "</table>\n",
       "</div>"
      ],
      "text/plain": [
       "   gamerounds_bin  retention_1_rate  retention_7_rate\n",
       "0               1          0.037629          0.009690\n",
       "1               2          0.120461          0.018080\n",
       "2               3          0.257069          0.036356\n",
       "3               4          0.427001          0.072561\n",
       "4               5          0.630745          0.146817\n",
       "5               6          0.786403          0.325492\n",
       "6               7          0.899116          0.705717"
      ]
     },
     "execution_count": 133,
     "metadata": {},
     "output_type": "execute_result"
    }
   ],
   "source": [
    "retention_by_bin"
   ]
  },
  {
   "cell_type": "code",
   "execution_count": 134,
   "id": "945ef48f",
   "metadata": {},
   "outputs": [
    {
     "data": {
      "text/html": [
       "<div>\n",
       "<style scoped>\n",
       "    .dataframe tbody tr th:only-of-type {\n",
       "        vertical-align: middle;\n",
       "    }\n",
       "\n",
       "    .dataframe tbody tr th {\n",
       "        vertical-align: top;\n",
       "    }\n",
       "\n",
       "    .dataframe thead th {\n",
       "        text-align: right;\n",
       "    }\n",
       "</style>\n",
       "<table border=\"1\" class=\"dataframe\">\n",
       "  <thead>\n",
       "    <tr style=\"text-align: right;\">\n",
       "      <th></th>\n",
       "      <th>gamerounds_bin</th>\n",
       "      <th>retention_1_rate</th>\n",
       "      <th>retention_7_rate</th>\n",
       "    </tr>\n",
       "  </thead>\n",
       "  <tbody>\n",
       "    <tr>\n",
       "      <th>gamerounds_bin</th>\n",
       "      <td>1.000000</td>\n",
       "      <td>0.994993</td>\n",
       "      <td>0.856184</td>\n",
       "    </tr>\n",
       "    <tr>\n",
       "      <th>retention_1_rate</th>\n",
       "      <td>0.994993</td>\n",
       "      <td>1.000000</td>\n",
       "      <td>0.855282</td>\n",
       "    </tr>\n",
       "    <tr>\n",
       "      <th>retention_7_rate</th>\n",
       "      <td>0.856184</td>\n",
       "      <td>0.855282</td>\n",
       "      <td>1.000000</td>\n",
       "    </tr>\n",
       "  </tbody>\n",
       "</table>\n",
       "</div>"
      ],
      "text/plain": [
       "                  gamerounds_bin  retention_1_rate  retention_7_rate\n",
       "gamerounds_bin          1.000000          0.994993          0.856184\n",
       "retention_1_rate        0.994993          1.000000          0.855282\n",
       "retention_7_rate        0.856184          0.855282          1.000000"
      ]
     },
     "execution_count": 134,
     "metadata": {},
     "output_type": "execute_result"
    }
   ],
   "source": [
    "#correlation \n",
    "retention_by_bin.corr()"
   ]
  },
  {
   "cell_type": "code",
   "execution_count": 135,
   "id": "23d41999",
   "metadata": {},
   "outputs": [
    {
     "data": {
      "text/plain": [
       "<AxesSubplot:>"
      ]
     },
     "execution_count": 135,
     "metadata": {},
     "output_type": "execute_result"
    },
    {
     "data": {
      "image/png": "[encoded data removed]",
      "text/plain": [
       "<Figure size 432x288 with 2 Axes>"
      ]
     },
     "metadata": {},
     "output_type": "display_data"
    }
   ],
   "source": [
    "sns.heatmap(retention_by_bin.corr(), annot=True, fmt=\".2f\", cmap = \"coolwarm\")\n",
    "\n",
    "#从图里来看，留存率和玩家玩的关数是有明显正相关性的\n",
    "#且1天留存率和7天留存率也是有明显正相关性的\n"
   ]
  },
  {
   "cell_type": "code",
   "execution_count": 141,
   "id": "e6b745fe",
   "metadata": {},
   "outputs": [
    {
     "data": {
      "image/png": "[encoded data removed]",
      "text/plain": [
       "<Figure size 457.925x360 with 1 Axes>"
      ]
     },
     "metadata": {},
     "output_type": "display_data"
    }
   ],
   "source": [
    "sns.color_palette('pastel')\n",
    "sns.relplot(data=retention_by_bin, kind='scatter', x='retention_1_rate',y='retention_7_rate',hue='gamerounds_bin')\n",
    "plt.show()\n",
    "\n",
    "#从图里可以看出，user玩的关数与留存率是成正相关的\n",
    "\n",
    "#当玩家的第一天的留存率越高，在第七天的留存率也越高，且是成指数增长的，同时玩家玩的总关数也会更高\n",
    "\n",
    "#suprisingly, 这张图看起来是可以通过第一天的留存率来预测第七天的留存率，以及玩家会玩的总关数"
   ]
  },
  {
   "cell_type": "code",
   "execution_count": null,
   "id": "4c9f4ae4",
   "metadata": {},
   "outputs": [],
   "source": []
  }
 ],
 "metadata": {
  "kernelspec": {
   "display_name": "Python 3 (ipykernel)",
   "language": "python",
   "name": "python3"
  },
  "language_info": {
   "codemirror_mode": {
    "name": "ipython",
    "version": 3
   },
   "file_extension": ".py",
   "mimetype": "text/x-python",
   "name": "python",
   "nbconvert_exporter": "python",
   "pygments_lexer": "ipython3",
   "version": "3.9.7"
  }
 },
 "nbformat": 4,
 "nbformat_minor": 5
}
